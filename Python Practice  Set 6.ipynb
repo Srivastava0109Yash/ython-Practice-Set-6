{
 "cells": [
  {
   "cell_type": "markdown",
   "id": "b9dd3a3e",
   "metadata": {},
   "source": [
    "### Q1. Write a program that prints the first 10 even numbers using a for loop."
   ]
  },
  {
   "cell_type": "code",
   "execution_count": 4,
   "id": "c0d6f20a",
   "metadata": {},
   "outputs": [
    {
     "name": "stdout",
     "output_type": "stream",
     "text": [
      "2 4 6 8 10 12 14 16 18 20 "
     ]
    }
   ],
   "source": [
    "for i in range(1,21):\n",
    "    if i%2==0:\n",
    "        print(i,end=\" \")"
   ]
  },
  {
   "cell_type": "markdown",
   "id": "22a975f8",
   "metadata": {},
   "source": [
    "### Q2. Write a program that takes a list of strings and prints out each string in reverse order using a for loop."
   ]
  },
  {
   "cell_type": "code",
   "execution_count": 17,
   "id": "2167378d",
   "metadata": {},
   "outputs": [
    {
     "name": "stdout",
     "output_type": "stream",
     "text": [
      "cba\n",
      "hsay\n",
      "avatsavirs\n",
      "pan\n"
     ]
    }
   ],
   "source": [
    "lst=['abc','yash','srivastava','nap']\n",
    "\n",
    "\n",
    "for i in lst:\n",
    "    print(i[::-1])\n",
    "    "
   ]
  },
  {
   "cell_type": "markdown",
   "id": "a735d90d",
   "metadata": {},
   "source": [
    "### Q3. Write a program that prints the multiplication table of a given number using a for loop."
   ]
  },
  {
   "cell_type": "code",
   "execution_count": 19,
   "id": "b10588a9",
   "metadata": {},
   "outputs": [
    {
     "name": "stdout",
     "output_type": "stream",
     "text": [
      "Enter the number whose multiplication table you want: 3\n",
      "3 x 1 = 3\n",
      "3 x 2 = 6\n",
      "3 x 3 = 9\n",
      "3 x 4 = 12\n",
      "3 x 5 = 15\n",
      "3 x 6 = 18\n",
      "3 x 7 = 21\n",
      "3 x 8 = 24\n",
      "3 x 9 = 27\n",
      "3 x 10 = 30\n"
     ]
    }
   ],
   "source": [
    "n=int(input(\"Enter the number whose multiplication table you want: \"))\n",
    "\n",
    "for i in range(1,11):\n",
    "    print(f\"{n} x {i} =\",n*i)"
   ]
  },
  {
   "cell_type": "markdown",
   "id": "e3b3df90",
   "metadata": {},
   "source": [
    "### Q4. Write a program that takes a list of integers as input and returns the sum of all the numbers in the list using a for loop."
   ]
  },
  {
   "cell_type": "code",
   "execution_count": 22,
   "id": "f2b2ac6d",
   "metadata": {},
   "outputs": [
    {
     "name": "stdout",
     "output_type": "stream",
     "text": [
      "Enter the numbers: 11 22 33 44 55\n",
      "165\n"
     ]
    }
   ],
   "source": [
    "n=list(map(int,input(\"Enter the numbers: \").strip().split()))\n",
    "\n",
    "for i in range(len(n)):\n",
    "    summ =sum(n)\n",
    "print(summ)\n",
    "    "
   ]
  },
  {
   "cell_type": "markdown",
   "id": "682d7c75",
   "metadata": {},
   "source": [
    "### Q5. Write a program that prompts the user for a positive integer and then prints out all the prime numbers up to that number using a for loop."
   ]
  },
  {
   "cell_type": "code",
   "execution_count": 24,
   "id": "a5c61548",
   "metadata": {},
   "outputs": [
    {
     "name": "stdout",
     "output_type": "stream",
     "text": [
      "Enter a positive integer: 12\n",
      "2 3 5 7 11 "
     ]
    }
   ],
   "source": [
    "n = int(input(\"Enter a positive integer: \"))\n",
    "\n",
    "for i in range(2, n+1):\n",
    "    is_prime = True\n",
    "    for j in range(2, int(i**0.5)+1):\n",
    "        if i % j == 0:\n",
    "            is_prime = False\n",
    "            break\n",
    "    if is_prime:\n",
    "        print(i,end=\" \")"
   ]
  },
  {
   "cell_type": "markdown",
   "id": "e42922de",
   "metadata": {},
   "source": [
    "### Q6. Write a program that prompts the user to enter a password until the correct password is entered using a while loop."
   ]
  },
  {
   "cell_type": "code",
   "execution_count": 25,
   "id": "bea5dbda",
   "metadata": {},
   "outputs": [
    {
     "name": "stdout",
     "output_type": "stream",
     "text": [
      "Enter the password: yashsijsi\n",
      "Incorrect password. Try again!\n",
      "Enter the password: yasdf\n",
      "Incorrect password. Try again!\n",
      "Enter the password: yash####\n",
      "Correct Password!\n"
     ]
    }
   ],
   "source": [
    "correct_password='yash####'\n",
    "\n",
    "while 1:\n",
    "    password =input(\"Enter the password: \")\n",
    "    \n",
    "    if password==correct_password:\n",
    "        print(\"Correct Password!\")\n",
    "        break\n",
    "        \n",
    "    else:\n",
    "        print(\"Incorrect password. Try again!\")"
   ]
  },
  {
   "cell_type": "markdown",
   "id": "a6a28320",
   "metadata": {},
   "source": [
    "### Q7. Write a program that takes a list of strings and prints out each string in reverse order using a while loop."
   ]
  },
  {
   "cell_type": "code",
   "execution_count": 32,
   "id": "82ca9ccb",
   "metadata": {},
   "outputs": [
    {
     "name": "stdout",
     "output_type": "stream",
     "text": [
      "dneirf\n",
      "dlo\n",
      "ym\n",
      "ssenkrad\n",
      "olleh\n"
     ]
    }
   ],
   "source": [
    "lst_str=['hello','darkness','my', 'old','friend']\n",
    "i=len(lst_str)-1\n",
    "\n",
    "while i>=0  :\n",
    "    print(lst_str[i][::-1])\n",
    "    i=i-1"
   ]
  },
  {
   "cell_type": "markdown",
   "id": "39b52fef",
   "metadata": {},
   "source": [
    "### Q8. Write a program that prompts the user to enter a positive integer and then prints out all the Fibonacci numbers up to that number using a while loop."
   ]
  },
  {
   "cell_type": "code",
   "execution_count": 33,
   "id": "0c935bd5",
   "metadata": {},
   "outputs": [
    {
     "name": "stdout",
     "output_type": "stream",
     "text": [
      "Enter a positive number: 9\n",
      "0 1 1 2 3 5 8 "
     ]
    }
   ],
   "source": [
    "n=int(input(\"Enter a positive number: \"))\n",
    "\n",
    "a,b=0,1\n",
    "\n",
    "while a<=n:\n",
    "    print(a,end=\" \")\n",
    "    a,b=b,a+b"
   ]
  },
  {
   "cell_type": "markdown",
   "id": "69f5336b",
   "metadata": {},
   "source": [
    "### Q9. Write a program that takes a list of integers as input and returns the product of all the numbers in the list using a while loop."
   ]
  },
  {
   "cell_type": "code",
   "execution_count": 36,
   "id": "f5c74360",
   "metadata": {},
   "outputs": [
    {
     "name": "stdout",
     "output_type": "stream",
     "text": [
      "Enter the list of numbers: 11 22 \n",
      "final product:  242\n"
     ]
    }
   ],
   "source": [
    "n=list(map(int,input(\"Enter the list of numbers: \").strip().split()))\n",
    "prod=1\n",
    "i=0\n",
    "\n",
    "while i<len(n):\n",
    "    prod=prod*n[i]\n",
    "    \n",
    "    i=i+1\n",
    "    \n",
    "print(\"final product: \" ,prod)    "
   ]
  },
  {
   "cell_type": "markdown",
   "id": "53ac172d",
   "metadata": {},
   "source": [
    "### Q10. Write a program that prompts the user to enter a positive integer and then prints out the factorial of that number using a while loop."
   ]
  },
  {
   "cell_type": "code",
   "execution_count": 37,
   "id": "23f77675",
   "metadata": {},
   "outputs": [
    {
     "name": "stdout",
     "output_type": "stream",
     "text": [
      "Enter a positive integer: 5\n",
      "The factorial of 5 is 120\n"
     ]
    }
   ],
   "source": [
    "n=int(input(\"Enter a positive integer: \"))\n",
    "factorial=1\n",
    "i=1\n",
    "\n",
    "while i<=n:\n",
    "    factorial*=i\n",
    "    i+=1\n",
    "\n",
    "print(\"The factorial of\",n,\"is\",factorial)"
   ]
  },
  {
   "cell_type": "code",
   "execution_count": null,
   "id": "2431b8e1",
   "metadata": {},
   "outputs": [],
   "source": []
  }
 ],
 "metadata": {
  "kernelspec": {
   "display_name": "Python 3 (ipykernel)",
   "language": "python",
   "name": "python3"
  },
  "language_info": {
   "codemirror_mode": {
    "name": "ipython",
    "version": 3
   },
   "file_extension": ".py",
   "mimetype": "text/x-python",
   "name": "python",
   "nbconvert_exporter": "python",
   "pygments_lexer": "ipython3",
   "version": "3.9.7"
  }
 },
 "nbformat": 4,
 "nbformat_minor": 5
}
